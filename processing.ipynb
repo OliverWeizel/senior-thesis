{
 "cells": [
  {
   "cell_type": "code",
   "execution_count": 1,
   "metadata": {},
   "outputs": [],
   "source": [
    "from methods import *\n",
    "import re\n",
    "import benepar\n",
    "import pandas as pd\n",
    "import nltk\n",
    "import nltk.draw\n",
    "from nltk.tree import Tree\n",
    "from nltk.draw.tree import TreeView\n",
    "import os\n",
    "from IPython.display import display\n",
    "# import spacy\n",
    "from  icecream import ic\n",
    "from scipy.stats import chisquare"
   ]
  },
  {
   "cell_type": "code",
   "execution_count": 2,
   "metadata": {},
   "outputs": [
    {
     "name": "stderr",
     "output_type": "stream",
     "text": [
      "/Users/oliverweizel/.pyenv/versions/3.12.7/lib/python3.12/site-packages/tqdm/auto.py:21: TqdmWarning: IProgress not found. Please update jupyter and ipywidgets. See https://ipywidgets.readthedocs.io/en/stable/user_install.html\n",
      "  from .autonotebook import tqdm as notebook_tqdm\n",
      "/Users/oliverweizel/.pyenv/versions/3.12.7/lib/python3.12/site-packages/benepar/parse_chart.py:169: FutureWarning: You are using `torch.load` with `weights_only=False` (the current default value), which uses the default pickle module implicitly. It is possible to construct malicious pickle data which will execute arbitrary code during unpickling (See https://github.com/pytorch/pytorch/blob/main/SECURITY.md#untrusted-models for more details). In a future release, the default value for `weights_only` will be flipped to `True`. This limits the functions that could be executed during unpickling. Arbitrary objects will no longer be allowed to be loaded via this mode unless they are explicitly allowlisted by the user via `torch.serialization.add_safe_globals`. We recommend you start setting `weights_only=True` for any use case where you don't have full control of the loaded file. Please open an issue on GitHub for any issues related to this experimental feature.\n",
      "  state_dict = torch.load(\n",
      "You are using the default legacy behaviour of the <class 'transformers.models.t5.tokenization_t5.T5Tokenizer'>. This is expected, and simply means that the `legacy` (previous) behavior will be used so nothing changes for you. If you want to use the new behaviour, set `legacy=False`. This should only be set if you understand what it means, and thoroughly read the reason why this was added as explained in https://github.com/huggingface/transformers/pull/24565\n"
     ]
    },
    {
     "name": "stdout",
     "output_type": "stream",
     "text": [
      "NEW8\n"
     ]
    },
    {
     "name": "stderr",
     "output_type": "stream",
     "text": [
      "You're using a T5TokenizerFast tokenizer. Please note that with a fast tokenizer, using the `__call__` method is faster than using a method to encode the text followed by a call to the `pad` method to get a padded encoding.\n",
      "Passing a tuple of `past_key_values` is deprecated and will be removed in Transformers v4.48.0. You should pass an instance of `EncoderDecoderCache` instead, e.g. `past_key_values=EncoderDecoderCache.from_legacy_cache(past_key_values)`.\n",
      "/Users/oliverweizel/.pyenv/versions/3.12.7/lib/python3.12/site-packages/torch/distributions/distribution.py:56: UserWarning: <class 'torch_struct.distributions.TreeCRF'> does not define `arg_constraints`. Please set `arg_constraints = {}` or initialize the distribution with `validate_args=False` to turn off validation.\n",
      "  warnings.warn(\n"
     ]
    }
   ],
   "source": [
    "parser = benepar.Parser(\"benepar_en3\")\n",
    "ans = valid_sentences('COCA/text_academic_rpe/w_acad_1990.txt', english_processor, english_indicator)\n",
    "df = pd.DataFrame({\"sentence\":ans})\n",
    "tree_gen = parser.parse_sents([benepar.InputSentence(s) for s in ans])\n",
    "trees = []\n",
    "for t in tree_gen:\n",
    "  trees.append(t)"
   ]
  },
  {
   "cell_type": "code",
   "execution_count": 5,
   "metadata": {},
   "outputs": [
    {
     "ename": "IndentationError",
     "evalue": "unexpected indent (2212511085.py, line 2)",
     "output_type": "error",
     "traceback": [
      "\u001b[0;36m  Cell \u001b[0;32mIn[5], line 2\u001b[0;36m\u001b[0m\n\u001b[0;31m    parent_text = []\u001b[0m\n\u001b[0m    ^\u001b[0m\n\u001b[0;31mIndentationError\u001b[0m\u001b[0;31m:\u001b[0m unexpected indent\n"
     ]
    }
   ],
   "source": [
    "parent_tree = []\n",
    "parent_text = []\n",
    "parent_type = []\n",
    "left_tree = []\n",
    "left_text = []\n",
    "left_type = []\n",
    "cc_tree = []\n",
    "cc_text = []\n",
    "right_tree = []\n",
    "right_text = []\n",
    "right_type = []\n",
    "\n",
    "\n",
    "for t in trees:\n",
    "  ic('full: '+ pp(t))\n",
    "  for tp in t.treepositions():\n",
    "    if isinstance(t[tp], str):\n",
    "      continue\n",
    "    if t[tp].label() == 'CC':\n",
    "      parent = t[tp[:-1]]\n",
    "      relative_tp = tp[-1]\n",
    "      # ic(relative_tp)\n",
    "      # ic(parent.treepositions())\n",
    "      try:\n",
    "        _ = right = parent[relative_tp + 1]\n",
    "      except:\n",
    "        print(\"bad conjunction\")\n",
    "        ic(pp(parent))\n",
    "        continue\n",
    "      ic('parent: ' + pp(parent))\n",
    "      left = parent[0]\n",
    "      ic('left: ' + pp(left))\n",
    "      conj = parent[relative_tp]\n",
    "      ic('conj: ' + pp(conj))\n",
    "      ic('conjunction: ' + ' '.join(conj.leaves()))\n",
    "      right = parent[relative_tp + 1]\n",
    "      ic('right: ' + pp(right))\n",
    "      parent_tree.append(parent)\n",
    "      parent_text.append(text(parent))\n",
    "      parent_type.append(parent.label())\n",
    "      left_tree.append(left)\n",
    "      left_text.append(text(left))\n",
    "      left_type.append(left.label())\n",
    "      right_tree.append(right)\n",
    "      right_text.append(text(right))\n",
    "      right_type.append(right.label())\n",
    "      cc_tree.append(conj)\n",
    "      cc_text.append(text(conj))\n"
   ]
  },
  {
   "cell_type": "code",
   "execution_count": null,
   "metadata": {},
   "outputs": [],
   "source": [
    "df = pd.DataFrame({'parent_tree':parent_tree, 'parent_text':parent_text, 'parent_type':parent_type, 'left_tree':left_tree, 'left_text':left_text, 'left_type':left_type, 'right_tree':right_tree, 'right_text':right_text, 'right_type':right_type, 'cc_tree':cc_tree, 'cc_text':cc_text})\n",
    "df['same_type'] = df.apply(lambda row: row['left_type'] == row['right_type'], axis=1)\n",
    "print(df['cc_text'].value_counts())\n",
    "res = chisquare(df['cc_text'].value_counts())\n",
    "print(res)\n",
    "print(df.head())"
   ]
  }
 ],
 "metadata": {
  "kernelspec": {
   "display_name": "3.12.7",
   "language": "python",
   "name": "python3"
  },
  "language_info": {
   "codemirror_mode": {
    "name": "ipython",
    "version": 3
   },
   "file_extension": ".py",
   "mimetype": "text/x-python",
   "name": "python",
   "nbconvert_exporter": "python",
   "pygments_lexer": "ipython3",
   "version": "3.12.7"
  }
 },
 "nbformat": 4,
 "nbformat_minor": 2
}
